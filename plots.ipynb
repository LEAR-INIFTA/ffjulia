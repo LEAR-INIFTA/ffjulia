{
 "cells": [
  {
   "cell_type": "code",
   "execution_count": 1,
   "metadata": {},
   "outputs": [
    {
     "name": "stdout",
     "output_type": "stream",
     "text": [
      "hola mundo\n"
     ]
    }
   ],
   "source": [
    "println(\"hola mundo\")"
   ]
  },
  {
   "cell_type": "code",
   "execution_count": 2,
   "metadata": {},
   "outputs": [],
   "source": [
    "using CSV\n",
    "using DataFrames"
   ]
  },
  {
   "cell_type": "code",
   "execution_count": 7,
   "metadata": {},
   "outputs": [
    {
     "data": {
      "text/html": [
       "<div class=\"data-frame\"><p>10,008 rows × 3 columns</p><table class=\"data-frame\"><thead><tr><th></th><th>Labels</th><th>NQ D 600 nm 400 us Delta OD KV 1_75 Ar 20 disparos</th><th>Column3</th></tr><tr><th></th><th title=\"String15\">String15</th><th title=\"Union{Missing, String15}\">String15?</th><th title=\"Missing\">Missing</th></tr></thead><tbody><tr><th>1</th><td>Type</td><td>LP Time Scan</td><td><em>missing</em></td></tr><tr><th>2</th><td>Comment</td><td><em>missing</em></td><td><em>missing</em></td></tr><tr><th>3</th><td>Start</td><td>0.00</td><td><em>missing</em></td></tr><tr><th>4</th><td>Stop</td><td>399960.0000</td><td><em>missing</em></td></tr><tr><th>5</th><td>Step</td><td>40.00</td><td><em>missing</em></td></tr><tr><th>6</th><td>Fixed/Offset</td><td> </td><td><em>missing</em></td></tr><tr><th>7</th><td>XAxis</td><td>Time</td><td><em>missing</em></td></tr><tr><th>8</th><td>YAxis</td><td>Delta OD</td><td><em>missing</em></td></tr><tr><th>9</th><td>0.00</td><td>2.12101702E-4</td><td><em>missing</em></td></tr><tr><th>10</th><td>40.00</td><td>1.42110453E-3</td><td><em>missing</em></td></tr><tr><th>11</th><td>80.00</td><td>1.09146768E-3</td><td><em>missing</em></td></tr><tr><th>12</th><td>120.00</td><td>-2.09400360E-3</td><td><em>missing</em></td></tr><tr><th>13</th><td>160.00</td><td>-1.21391809E-3</td><td><em>missing</em></td></tr><tr><th>14</th><td>200.00</td><td>2.08192947E-3</td><td><em>missing</em></td></tr><tr><th>15</th><td>240.00</td><td>6.51751936E-4</td><td><em>missing</em></td></tr><tr><th>16</th><td>280.00</td><td>7.62409822E-4</td><td><em>missing</em></td></tr><tr><th>17</th><td>320.00</td><td>5.41219895E-4</td><td><em>missing</em></td></tr><tr><th>18</th><td>360.00</td><td>1.01542355E-4</td><td><em>missing</em></td></tr><tr><th>19</th><td>400.00</td><td>9.81968245E-4</td><td><em>missing</em></td></tr><tr><th>20</th><td>440.00</td><td>-5.17142053E-6</td><td><em>missing</em></td></tr><tr><th>21</th><td>480.00</td><td>5.41425194E-4</td><td><em>missing</em></td></tr><tr><th>22</th><td>520.00</td><td>1.20159204E-3</td><td><em>missing</em></td></tr><tr><th>23</th><td>560.00</td><td>2.08049663E-3</td><td><em>missing</em></td></tr><tr><th>24</th><td>600.00</td><td>9.82855679E-4</td><td><em>missing</em></td></tr><tr><th>&vellip;</th><td>&vellip;</td><td>&vellip;</td><td>&vellip;</td></tr></tbody></table></div>"
      ],
      "text/latex": [
       "\\begin{tabular}{r|ccc}\n",
       "\t& Labels & NQ D 600 nm 400 us Delta OD KV 1\\_75 Ar 20 disparos & Column3\\\\\n",
       "\t\\hline\n",
       "\t& String15 & String15? & Missing\\\\\n",
       "\t\\hline\n",
       "\t1 & Type & LP Time Scan & \\emph{missing} \\\\\n",
       "\t2 & Comment & \\emph{missing} & \\emph{missing} \\\\\n",
       "\t3 & Start & 0.00 & \\emph{missing} \\\\\n",
       "\t4 & Stop & 399960.0000 & \\emph{missing} \\\\\n",
       "\t5 & Step & 40.00 & \\emph{missing} \\\\\n",
       "\t6 & Fixed/Offset &   & \\emph{missing} \\\\\n",
       "\t7 & XAxis & Time & \\emph{missing} \\\\\n",
       "\t8 & YAxis & Delta OD & \\emph{missing} \\\\\n",
       "\t9 & 0.00 & 2.12101702E-4 & \\emph{missing} \\\\\n",
       "\t10 & 40.00 & 1.42110453E-3 & \\emph{missing} \\\\\n",
       "\t11 & 80.00 & 1.09146768E-3 & \\emph{missing} \\\\\n",
       "\t12 & 120.00 & -2.09400360E-3 & \\emph{missing} \\\\\n",
       "\t13 & 160.00 & -1.21391809E-3 & \\emph{missing} \\\\\n",
       "\t14 & 200.00 & 2.08192947E-3 & \\emph{missing} \\\\\n",
       "\t15 & 240.00 & 6.51751936E-4 & \\emph{missing} \\\\\n",
       "\t16 & 280.00 & 7.62409822E-4 & \\emph{missing} \\\\\n",
       "\t17 & 320.00 & 5.41219895E-4 & \\emph{missing} \\\\\n",
       "\t18 & 360.00 & 1.01542355E-4 & \\emph{missing} \\\\\n",
       "\t19 & 400.00 & 9.81968245E-4 & \\emph{missing} \\\\\n",
       "\t20 & 440.00 & -5.17142053E-6 & \\emph{missing} \\\\\n",
       "\t21 & 480.00 & 5.41425194E-4 & \\emph{missing} \\\\\n",
       "\t22 & 520.00 & 1.20159204E-3 & \\emph{missing} \\\\\n",
       "\t23 & 560.00 & 2.08049663E-3 & \\emph{missing} \\\\\n",
       "\t24 & 600.00 & 9.82855679E-4 & \\emph{missing} \\\\\n",
       "\t$\\dots$ & $\\dots$ & $\\dots$ & $\\dots$ \\\\\n",
       "\\end{tabular}\n"
      ],
      "text/plain": [
       "\u001b[1m10008×3 DataFrame\u001b[0m\n",
       "\u001b[1m   Row \u001b[0m│\u001b[1m Labels       \u001b[0m\u001b[1m NQ D 600 nm 400 us Delta OD KV 1_75 Ar 20 disparos \u001b[0m\u001b[1m Col\u001b[0m ⋯\n",
       "\u001b[1m       \u001b[0m│\u001b[90m String15     \u001b[0m\u001b[90m Union{Missing, String15}                           \u001b[0m\u001b[90m Mis\u001b[0m ⋯\n",
       "───────┼────────────────────────────────────────────────────────────────────────\n",
       "     1 │ Type          LP Time Scan                                       \u001b[90m mis\u001b[0m ⋯\n",
       "     2 │ Comment      \u001b[90m missing                                            \u001b[0m\u001b[90m mis\u001b[0m\n",
       "     3 │ Start         0.00                                               \u001b[90m mis\u001b[0m\n",
       "     4 │ Stop          399960.0000                                        \u001b[90m mis\u001b[0m\n",
       "     5 │ Step          40.00                                              \u001b[90m mis\u001b[0m ⋯\n",
       "     6 │ Fixed/Offset                                                     \u001b[90m mis\u001b[0m\n",
       "     7 │ XAxis         Time                                               \u001b[90m mis\u001b[0m\n",
       "     8 │ YAxis         Delta OD                                           \u001b[90m mis\u001b[0m\n",
       "   ⋮   │      ⋮                                ⋮                               ⋱\n",
       " 10002 │ 399720.0000   -7.63913617E-4                                     \u001b[90m mis\u001b[0m ⋯\n",
       " 10003 │ 399760.0000   -5.43300703E-4                                     \u001b[90m mis\u001b[0m\n",
       " 10004 │ 3.998E005     9.84421815E-4                                      \u001b[90m mis\u001b[0m\n",
       " 10005 │ 399840.0000   6.58353965E-4                                      \u001b[90m mis\u001b[0m\n",
       " 10006 │ 399880.0000   -3.23681947E-4                                     \u001b[90m mis\u001b[0m ⋯\n",
       " 10007 │ 399920.0000   -3.26373789E-4                                     \u001b[90m mis\u001b[0m\n",
       " 10008 │ 399960.0000   -3.27674061E-4                                     \u001b[90m mis\u001b[0m\n",
       "\u001b[36m                                                  1 column and 9993 rows omitted\u001b[0m"
      ]
     },
     "metadata": {},
     "output_type": "display_data"
    }
   ],
   "source": [
    "CSV.read(\"NQ D 600 nm 400 us Delta OD KV 1_75 Ar 20 disparos.txt\", DataFrame)"
   ]
  },
  {
   "cell_type": "code",
   "execution_count": null,
   "metadata": {},
   "outputs": [],
   "source": []
  }
 ],
 "metadata": {
  "kernelspec": {
   "display_name": "Julia 1.7.2",
   "language": "julia",
   "name": "julia-1.7"
  },
  "language_info": {
   "file_extension": ".jl",
   "mimetype": "application/julia",
   "name": "julia",
   "version": "1.7.2"
  },
  "orig_nbformat": 4
 },
 "nbformat": 4,
 "nbformat_minor": 2
}
